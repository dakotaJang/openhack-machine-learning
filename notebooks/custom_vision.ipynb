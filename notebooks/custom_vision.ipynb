{
 "cells": [
  {
   "cell_type": "code",
   "execution_count": 1,
   "metadata": {},
   "outputs": [
    {
     "name": "stdout",
     "output_type": "stream",
     "text": [
      "{\"id\":\"9b7792f6-9263-4bde-a95a-fc9ae8c3ddd3\",\"project\":\"4475e8f0-4559-481a-90df-d4ff9a98215e\",\"iteration\":\"6d0428a4-491f-4ad2-871f-c65d67f25677\",\"created\":\"2018-10-12T19:14:58.4347323Z\",\"predictions\":[{\"probability\":0.07825217,\"tagId\":\"e1b27ded-d2f5-4366-ad5d-d06b01d7220a\",\"tagName\":\"helmet\",\"boundingBox\":{\"left\":0.241687387,\"top\":0.175028488,\"width\":0.03283465,\"height\":0.03725925}},{\"probability\":0.836798,\"tagId\":\"e1b27ded-d2f5-4366-ad5d-d06b01d7220a\",\"tagName\":\"helmet\",\"boundingBox\":{\"left\":0.684703946,\"top\":0.174357891,\"width\":0.06255537,\"height\":0.103782}},{\"probability\":0.0179591272,\"tagId\":\"e1b27ded-d2f5-4366-ad5d-d06b01d7220a\",\"tagName\":\"helmet\",\"boundingBox\":{\"left\":0.756109655,\"top\":0.3661995,\"width\":0.03725499,\"height\":0.0888282955}},{\"probability\":0.12614429,\"tagId\":\"e1b27ded-d2f5-4366-ad5d-d06b01d7220a\",\"tagName\":\"helmet\",\"boundingBox\":{\"left\":0.126844227,\"top\":0.460718751,\"width\":0.0229963213,\"height\":0.0569091439}},{\"probability\":0.0256725736,\"tagId\":\"e1b27ded-d2f5-4366-ad5d-d06b01d7220a\",\"tagName\":\"helmet\",\"boundingBox\":{\"left\":0.562488735,\"top\":0.5878858,\"width\":0.02549529,\"height\":0.0496526957}},{\"probability\":0.311796069,\"tagId\":\"e1b27ded-d2f5-4366-ad5d-d06b01d7220a\",\"tagName\":\"helmet\",\"boundingBox\":{\"left\":0.580426335,\"top\":0.5873619,\"width\":0.0360303521,\"height\":0.0520470738}},{\"probability\":0.03632561,\"tagId\":\"e1b27ded-d2f5-4366-ad5d-d06b01d7220a\",\"tagName\":\"helmet\",\"boundingBox\":{\"left\":0.573034,\"top\":0.64291805,\"width\":0.04101795,\"height\":0.06253153}},{\"probability\":0.0305646118,\"tagId\":\"e1b27ded-d2f5-4366-ad5d-d06b01d7220a\",\"tagName\":\"helmet\",\"boundingBox\":{\"left\":0.430384159,\"top\":0.792165,\"width\":0.014490366,\"height\":0.0224060416}},{\"probability\":0.0286968146,\"tagId\":\"e1b27ded-d2f5-4366-ad5d-d06b01d7220a\",\"tagName\":\"helmet\",\"boundingBox\":{\"left\":0.478221536,\"top\":0.7824196,\"width\":0.01822415,\"height\":0.033521235}},{\"probability\":0.6639229,\"tagId\":\"e1b27ded-d2f5-4366-ad5d-d06b01d7220a\",\"tagName\":\"helmet\",\"boundingBox\":{\"left\":0.493254066,\"top\":0.7746271,\"width\":0.02491641,\"height\":0.0449941158}},{\"probability\":0.117498465,\"tagId\":\"e1b27ded-d2f5-4366-ad5d-d06b01d7220a\",\"tagName\":\"helmet\",\"boundingBox\":{\"left\":0.3968589,\"top\":0.8378909,\"width\":0.0153585076,\"height\":0.0298307538}},{\"probability\":0.122429132,\"tagId\":\"e1b27ded-d2f5-4366-ad5d-d06b01d7220a\",\"tagName\":\"helmet\",\"boundingBox\":{\"left\":0.422264785,\"top\":0.825625956,\"width\":0.0177134275,\"height\":0.0301408172}},{\"probability\":0.07228462,\"tagId\":\"e1b27ded-d2f5-4366-ad5d-d06b01d7220a\",\"tagName\":\"helmet\",\"boundingBox\":{\"left\":0.6319135,\"top\":0.8625431,\"width\":0.0371801853,\"height\":0.0379459858}},{\"probability\":0.0304991044,\"tagId\":\"e1b27ded-d2f5-4366-ad5d-d06b01d7220a\",\"tagName\":\"helmet\",\"boundingBox\":{\"left\":0.6539201,\"top\":0.867125452,\"width\":0.0668033957,\"height\":0.0410806537}},{\"probability\":0.0130109955,\"tagId\":\"e1b27ded-d2f5-4366-ad5d-d06b01d7220a\",\"tagName\":\"helmet\",\"boundingBox\":{\"left\":0.6777259,\"top\":0.847523868,\"width\":0.0842331648,\"height\":0.04376805}},{\"probability\":0.0242790449,\"tagId\":\"e1b27ded-d2f5-4366-ad5d-d06b01d7220a\",\"tagName\":\"helmet\",\"boundingBox\":{\"left\":0.6496638,\"top\":0.9066398,\"width\":0.07726556,\"height\":0.04833281}},{\"probability\":0.0109879524,\"tagId\":\"e1b27ded-d2f5-4366-ad5d-d06b01d7220a\",\"tagName\":\"helmet\",\"boundingBox\":{\"left\":0.6749167,\"top\":0.916686833,\"width\":0.0924044847,\"height\":0.0445053}},{\"probability\":0.010753084,\"tagId\":\"e1b27ded-d2f5-4366-ad5d-d06b01d7220a\",\"tagName\":\"helmet\",\"boundingBox\":{\"left\":0.9806359,\"top\":0.927345157,\"width\":0.0129799247,\"height\":0.0556380153}},{\"probability\":0.0223842766,\"tagId\":\"e1b27ded-d2f5-4366-ad5d-d06b01d7220a\",\"tagName\":\"helmet\",\"boundingBox\":{\"left\":0.6643639,\"top\":0.1535618,\"width\":0.111414135,\"height\":0.153718054}}]}"
     ]
    }
   ],
   "source": [
    "! curl -H \"Prediction-Key: {prediction-key}\" -H \"Content-Type: application/json\" --data \"{\\\"Url\\\": \\\"http://everestmarathon.com/wp-content/uploads/2017/08/Everest-Marathon-Island-Peak.jpg\\\"}\" https://southcentralus.api.cognitive.microsoft.com/customvision/v2.0/Prediction/4475e8f0-4559-481a-90df-d4ff9a98215e/url?iterationId=6d0428a4-491f-4ad2-871f-c65d67f25677"
   ]
  },
  {
   "cell_type": "code",
   "execution_count": null,
   "metadata": {},
   "outputs": [],
   "source": []
  }
 ],
 "metadata": {
  "kernelspec": {
   "display_name": "Python 3",
   "language": "python",
   "name": "python3"
  },
  "language_info": {
   "codemirror_mode": {
    "name": "ipython",
    "version": 3
   },
   "file_extension": ".py",
   "mimetype": "text/x-python",
   "name": "python",
   "nbconvert_exporter": "python",
   "pygments_lexer": "ipython3",
   "version": "3.6.6"
  }
 },
 "nbformat": 4,
 "nbformat_minor": 2
}
